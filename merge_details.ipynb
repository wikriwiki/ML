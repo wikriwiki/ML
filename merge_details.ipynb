{
 "cells": [
  {
   "cell_type": "code",
   "execution_count": null,
   "id": "78be92a0-b22f-46b8-a9b1-4c6bad8c008a",
   "metadata": {},
   "outputs": [
    {
     "name": "stdout",
     "output_type": "stream",
     "text": [
      "합친 파일 저장 경로: movie_details/kobis_boxoffice_with_details_merged2.csv\n"
     ]
    }
   ],
   "source": [
    "import pandas as pd\n",
    "\n",
    "# 파일 경로 리스트\n",
    "file_paths = [\n",
    "    \"movie_details/kobis_boxoffice_with_details_2015_2016.csv\",\n",
    "    \"movie_details/kobis_boxoffice_with_details_2017_2018.csv\",\n",
    "    \"movie_details/kobis_boxoffice_with_details_2019_2020.csv\",\n",
    "    \"movie_details/kobis_boxoffice_with_details_2021_2022.csv\",\n",
    "    \"movie_details/kobis_boxoffice_with_details_2023_2025.csv\"\n",
    "]\n",
    "\n",
    "# 데이터프레임 리스트로 읽어오기\n",
    "dfs = [pd.read_csv(fp, encoding='utf-8') for fp in file_paths]\n",
    "\n",
    "# 합치기 (row-wise)\n",
    "merged_df = pd.concat(dfs, ignore_index=True)\n",
    "\n",
    "# 중복 제거 (필요하다면 'movieCd' 기준 등 원하는 컬럼명으로)\n",
    "merged_df = merged_df.drop_duplicates(subset=['movieCd'])\n",
    "\n",
    "# 인덱스 초기화\n",
    "merged_df.reset_index(drop=True, inplace=True)\n",
    "\n",
    "# 저장\n",
    "save_path = \"movie_details/kobis_boxoffice_with_details_merged2.csv\"\n",
    "merged_df.to_csv(save_path, index=False, encoding='utf-8-sig')\n",
    "\n",
    "print(f\"합친 파일 저장 경로: {save_path}\")\n"
   ]
  },
  {
   "cell_type": "code",
   "execution_count": 20,
   "id": "5c99dc03-b461-4336-9e8b-bdb3d11d3dbd",
   "metadata": {},
   "outputs": [
    {
     "name": "stderr",
     "output_type": "stream",
     "text": [
      "C:\\Users\\kevib\\AppData\\Local\\Temp\\ipykernel_31168\\1430491816.py:2: DtypeWarning: Columns (0,17,38,39,40,41) have mixed types. Specify dtype option on import or set low_memory=False.\n",
      "  df = pd.read_csv(\"movie_details/kobis_boxoffice_with_details_merged.csv\", encoding='utf-8')\n"
     ]
    }
   ],
   "source": [
    "\n",
    "# 파일 읽기\n",
    "df = pd.read_csv(\"movie_details/kobis_boxoffice_with_details_merged.csv\", encoding='utf-8')\n",
    "\n",
    "# showRange에서 시작 날짜 추출 후 'YYYYMMDD'로 변환\n",
    "import numpy as np\n",
    "\n",
    "# 파일 읽기 (이미 df가 있다고 가정)\n",
    "# df = pd.read_csv(...)\n",
    "\n",
    "df['targetDt'] = np.where(\n",
    "    df['showRange'].notnull(),\n",
    "    df['showRange'].str.split('~').str[0].str.replace('-', ''),\n",
    "    df['targetDt']\n",
    ")\n",
    "df['targetDt'] = df['targetDt'].str.replace('-', '')\n",
    "\n",
    "\n",
    "# 저장(원한다면)\n",
    "df.to_csv(\"movie_details/kobis_boxoffice_with_details_with_targetDt.csv\", index=False, encoding='utf-8-sig')"
   ]
  },
  {
   "cell_type": "code",
   "execution_count": null,
   "id": "4cc60646-8d27-4b23-915a-88f187f19888",
   "metadata": {},
   "outputs": [
    {
     "name": "stdout",
     "output_type": "stream",
     "text": [
      "    movieCd     salesAcc  audiAcc movieNm_box  \\\n",
      "0  20098169  40601955671  4620936      쥬라기 월드   \n",
      "1  20100211   2029362300   273264      다이노 타임   \n",
      "2  20130021   3317041989   425752   협녀, 칼의 기억   \n",
      "3  20130566   3194054331   406139         무뢰한   \n",
      "4  20131262   7353194469   948101         허삼관   \n",
      "\n",
      "                                       actors  directors          genres  \\\n",
      "0  크리스 프랫|주디 그리어|브라이스 달라스 하워드|케이티 맥그라스|제이크 존슨   콜린 트레보로우      액션|어드벤처|SF   \n",
      "1       멜라니 그리피스|제인 린치|윌리엄 볼드윈|스티븐 볼드윈|롭 슈나이더  존 카프카|최윤석  애니메이션|어드벤처|코미디   \n",
      "2                         이병헌|전도연|김고은|이경영|김태우        박흥식           사극|액션   \n",
      "3                         김남길|전도연|박성웅|곽도원|강태영        오승욱          멜로/로맨스   \n",
      "4                          하정우|하지원|전혜진|장광|주진모        하정우             드라마   \n",
      "\n",
      "  nations  repNationNm productionCompanies  showTm  \n",
      "0      미국          NaN                None   124.0  \n",
      "1   한국|미국          NaN            주식회사 토이온    85.0  \n",
      "2      한국          NaN          (주)티피에스컴퍼니   120.0  \n",
      "3      한국          NaN           (주)사나이픽처스   118.0  \n",
      "4      한국          NaN   (주)두타연|(주)판타지오픽쳐스   123.0  \n"
     ]
    },
    {
     "name": "stderr",
     "output_type": "stream",
     "text": [
      "C:\\Users\\srdyh\\AppData\\Local\\Temp\\ipykernel_14148\\2846866848.py:4: DtypeWarning: Columns (0,18,38,39,40,41) have mixed types. Specify dtype option on import or set low_memory=False.\n",
      "  df = pd.read_csv('kobis_boxoffice_with_details_merged.csv')\n"
     ]
    }
   ],
   "source": [
    "import pandas as pd\n",
    "\n",
    "# CSV 파일 읽기\n",
    "df = pd.read_csv('kobis_boxoffice_with_details_merged.csv')\n",
    "\n",
    "# openDt_box를 datetime으로 변환\n",
    "df['openDt_box'] = pd.to_datetime(df['openDt_box'], format='%Y-%m-%d', errors='coerce')\n",
    "\n",
    "# 2015년 1월 1일 이후 데이터만 필터링\n",
    "df = df[df['openDt_box'] >= '2015-01-01']\n",
    "\n",
    "# 지정한 열만 선택\n",
    "keep_columns = ['movieCd', 'movieNm_box', 'actors', 'directors', 'genres', 'nations', \n",
    "                'repNationNm', 'productionCompanies', 'salesAcc', 'audiAcc','showTm']\n",
    "df = df[keep_columns]\n",
    "\n",
    "# 중복 제거 및 salesAcc, audiAcc 최대값 유지\n",
    "grouped_df = df.groupby('movieCd').agg({\n",
    "    'salesAcc': 'max',\n",
    "    'audiAcc': 'max',\n",
    "    **{col: 'first' for col in df.columns if col not in ['movieCd', 'salesAcc', 'audiAcc']}\n",
    "}).reset_index()\n",
    "\n",
    "# 결과 저장\n",
    "grouped_df.to_csv('kobis_boxoffice_with_details_final.csv', index=False)\n",
    "\n",
    "# 결과 확인\n",
    "print(grouped_df.head())"
   ]
  },
  {
   "cell_type": "code",
   "execution_count": null,
   "id": "c73f9cc8-4820-45b8-bf67-1f6edbb9ec6a",
   "metadata": {},
   "outputs": [],
   "source": []
  }
 ],
 "metadata": {
  "kernelspec": {
   "display_name": "vip_env",
   "language": "python",
   "name": "python3"
  },
  "language_info": {
   "codemirror_mode": {
    "name": "ipython",
    "version": 3
   },
   "file_extension": ".py",
   "mimetype": "text/x-python",
   "name": "python",
   "nbconvert_exporter": "python",
   "pygments_lexer": "ipython3",
   "version": "3.9.21"
  }
 },
 "nbformat": 4,
 "nbformat_minor": 5
}
